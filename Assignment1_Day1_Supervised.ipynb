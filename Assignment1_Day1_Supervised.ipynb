{
  "nbformat": 4,
  "nbformat_minor": 0,
  "metadata": {
    "colab": {
      "provenance": [],
      "authorship_tag": "ABX9TyODnXRImKz1NDPOEEK/2kQZ",
      "include_colab_link": true
    },
    "kernelspec": {
      "name": "python3",
      "display_name": "Python 3"
    },
    "language_info": {
      "name": "python"
    }
  },
  "cells": [
    {
      "cell_type": "markdown",
      "metadata": {
        "id": "view-in-github",
        "colab_type": "text"
      },
      "source": [
        "<a href=\"https://colab.research.google.com/github/testanalyst/AILauchpad/blob/main/Assignment1_Day1_Supervised.ipynb\" target=\"_parent\"><img src=\"https://colab.research.google.com/assets/colab-badge.svg\" alt=\"Open In Colab\"/></a>"
      ]
    },
    {
      "cell_type": "code",
      "execution_count": 1,
      "metadata": {
        "colab": {
          "base_uri": "https://localhost:8080/",
          "height": 0
        },
        "id": "rxzOUn4Yzljl",
        "outputId": "7430f3f5-90e5-4047-c269-39280657c144"
      },
      "outputs": [
        {
          "output_type": "stream",
          "name": "stdout",
          "text": [
            "Requirement already satisfied: numpy in /usr/local/lib/python3.10/dist-packages (1.26.4)\n",
            "Requirement already satisfied: pandas in /usr/local/lib/python3.10/dist-packages (2.2.2)\n",
            "Requirement already satisfied: scikit-learn in /usr/local/lib/python3.10/dist-packages (1.5.2)\n",
            "Requirement already satisfied: matplotlib in /usr/local/lib/python3.10/dist-packages (3.8.0)\n",
            "Requirement already satisfied: python-dateutil>=2.8.2 in /usr/local/lib/python3.10/dist-packages (from pandas) (2.8.2)\n",
            "Requirement already satisfied: pytz>=2020.1 in /usr/local/lib/python3.10/dist-packages (from pandas) (2024.2)\n",
            "Requirement already satisfied: tzdata>=2022.7 in /usr/local/lib/python3.10/dist-packages (from pandas) (2024.2)\n",
            "Requirement already satisfied: scipy>=1.6.0 in /usr/local/lib/python3.10/dist-packages (from scikit-learn) (1.13.1)\n",
            "Requirement already satisfied: joblib>=1.2.0 in /usr/local/lib/python3.10/dist-packages (from scikit-learn) (1.4.2)\n",
            "Requirement already satisfied: threadpoolctl>=3.1.0 in /usr/local/lib/python3.10/dist-packages (from scikit-learn) (3.5.0)\n",
            "Requirement already satisfied: contourpy>=1.0.1 in /usr/local/lib/python3.10/dist-packages (from matplotlib) (1.3.1)\n",
            "Requirement already satisfied: cycler>=0.10 in /usr/local/lib/python3.10/dist-packages (from matplotlib) (0.12.1)\n",
            "Requirement already satisfied: fonttools>=4.22.0 in /usr/local/lib/python3.10/dist-packages (from matplotlib) (4.55.0)\n",
            "Requirement already satisfied: kiwisolver>=1.0.1 in /usr/local/lib/python3.10/dist-packages (from matplotlib) (1.4.7)\n",
            "Requirement already satisfied: packaging>=20.0 in /usr/local/lib/python3.10/dist-packages (from matplotlib) (24.2)\n",
            "Requirement already satisfied: pillow>=6.2.0 in /usr/local/lib/python3.10/dist-packages (from matplotlib) (11.0.0)\n",
            "Requirement already satisfied: pyparsing>=2.3.1 in /usr/local/lib/python3.10/dist-packages (from matplotlib) (3.2.0)\n",
            "Requirement already satisfied: six>=1.5 in /usr/local/lib/python3.10/dist-packages (from python-dateutil>=2.8.2->pandas) (1.16.0)\n"
          ]
        }
      ],
      "source": [
        "!pip install numpy pandas scikit-learn matplotlib"
      ]
    },
    {
      "cell_type": "code",
      "source": [
        "# The dataset used is the Iris flower dataset, you can get it from kaggle, https://scikit-learn.org/, https://archive.ics.uci.edu and many other places\n",
        "# I think in the original and raw data set that contains 150 rows, the column names are not given. In some datasets, the species column values itself\n",
        "# seems missing. But this missing column/value is not universal.\n",
        "import pandas as pd\n",
        "\n",
        "# I chose to load the Iris dataset from https://archive.ics.uci.edu\n",
        "url = \"https://archive.ics.uci.edu/ml/machine-learning-databases/iris/iris.data\"\n",
        "# Adding column names as these are missing in the original dataset.\n",
        "column_names = [\"sepal_length\", \"sepal_width\", \"petal_length\", \"petal_width\", \"species\"]\n",
        "iris_sup_01 = pd.read_csv(url, header=None, names=column_names)"
      ],
      "metadata": {
        "id": "NH9-CmWFz3r9"
      },
      "execution_count": 2,
      "outputs": []
    },
    {
      "cell_type": "code",
      "source": [
        "# Let's look into dataset using different functions as out of the box support by Pandas and or supporting libraries like tabulate\n",
        "# pip install tabulate\n",
        "# https://www.geeksforgeeks.org/how-to-print-an-entire-pandas-dataframe-in-python/\n",
        "#iris_df_cp_spl.head()\n",
        "#iris_df_cp_spl.tail()\n",
        "print(iris_sup_01.to_markdown())"
      ],
      "metadata": {
        "colab": {
          "base_uri": "https://localhost:8080/",
          "height": 0
        },
        "id": "Ig97DJDdz7XQ",
        "outputId": "aa0419e3-400e-4365-8a9a-5ee601dfbffe"
      },
      "execution_count": 3,
      "outputs": [
        {
          "output_type": "stream",
          "name": "stdout",
          "text": [
            "|     |   sepal_length |   sepal_width |   petal_length |   petal_width | species         |\n",
            "|----:|---------------:|--------------:|---------------:|--------------:|:----------------|\n",
            "|   0 |            5.1 |           3.5 |            1.4 |           0.2 | Iris-setosa     |\n",
            "|   1 |            4.9 |           3   |            1.4 |           0.2 | Iris-setosa     |\n",
            "|   2 |            4.7 |           3.2 |            1.3 |           0.2 | Iris-setosa     |\n",
            "|   3 |            4.6 |           3.1 |            1.5 |           0.2 | Iris-setosa     |\n",
            "|   4 |            5   |           3.6 |            1.4 |           0.2 | Iris-setosa     |\n",
            "|   5 |            5.4 |           3.9 |            1.7 |           0.4 | Iris-setosa     |\n",
            "|   6 |            4.6 |           3.4 |            1.4 |           0.3 | Iris-setosa     |\n",
            "|   7 |            5   |           3.4 |            1.5 |           0.2 | Iris-setosa     |\n",
            "|   8 |            4.4 |           2.9 |            1.4 |           0.2 | Iris-setosa     |\n",
            "|   9 |            4.9 |           3.1 |            1.5 |           0.1 | Iris-setosa     |\n",
            "|  10 |            5.4 |           3.7 |            1.5 |           0.2 | Iris-setosa     |\n",
            "|  11 |            4.8 |           3.4 |            1.6 |           0.2 | Iris-setosa     |\n",
            "|  12 |            4.8 |           3   |            1.4 |           0.1 | Iris-setosa     |\n",
            "|  13 |            4.3 |           3   |            1.1 |           0.1 | Iris-setosa     |\n",
            "|  14 |            5.8 |           4   |            1.2 |           0.2 | Iris-setosa     |\n",
            "|  15 |            5.7 |           4.4 |            1.5 |           0.4 | Iris-setosa     |\n",
            "|  16 |            5.4 |           3.9 |            1.3 |           0.4 | Iris-setosa     |\n",
            "|  17 |            5.1 |           3.5 |            1.4 |           0.3 | Iris-setosa     |\n",
            "|  18 |            5.7 |           3.8 |            1.7 |           0.3 | Iris-setosa     |\n",
            "|  19 |            5.1 |           3.8 |            1.5 |           0.3 | Iris-setosa     |\n",
            "|  20 |            5.4 |           3.4 |            1.7 |           0.2 | Iris-setosa     |\n",
            "|  21 |            5.1 |           3.7 |            1.5 |           0.4 | Iris-setosa     |\n",
            "|  22 |            4.6 |           3.6 |            1   |           0.2 | Iris-setosa     |\n",
            "|  23 |            5.1 |           3.3 |            1.7 |           0.5 | Iris-setosa     |\n",
            "|  24 |            4.8 |           3.4 |            1.9 |           0.2 | Iris-setosa     |\n",
            "|  25 |            5   |           3   |            1.6 |           0.2 | Iris-setosa     |\n",
            "|  26 |            5   |           3.4 |            1.6 |           0.4 | Iris-setosa     |\n",
            "|  27 |            5.2 |           3.5 |            1.5 |           0.2 | Iris-setosa     |\n",
            "|  28 |            5.2 |           3.4 |            1.4 |           0.2 | Iris-setosa     |\n",
            "|  29 |            4.7 |           3.2 |            1.6 |           0.2 | Iris-setosa     |\n",
            "|  30 |            4.8 |           3.1 |            1.6 |           0.2 | Iris-setosa     |\n",
            "|  31 |            5.4 |           3.4 |            1.5 |           0.4 | Iris-setosa     |\n",
            "|  32 |            5.2 |           4.1 |            1.5 |           0.1 | Iris-setosa     |\n",
            "|  33 |            5.5 |           4.2 |            1.4 |           0.2 | Iris-setosa     |\n",
            "|  34 |            4.9 |           3.1 |            1.5 |           0.1 | Iris-setosa     |\n",
            "|  35 |            5   |           3.2 |            1.2 |           0.2 | Iris-setosa     |\n",
            "|  36 |            5.5 |           3.5 |            1.3 |           0.2 | Iris-setosa     |\n",
            "|  37 |            4.9 |           3.1 |            1.5 |           0.1 | Iris-setosa     |\n",
            "|  38 |            4.4 |           3   |            1.3 |           0.2 | Iris-setosa     |\n",
            "|  39 |            5.1 |           3.4 |            1.5 |           0.2 | Iris-setosa     |\n",
            "|  40 |            5   |           3.5 |            1.3 |           0.3 | Iris-setosa     |\n",
            "|  41 |            4.5 |           2.3 |            1.3 |           0.3 | Iris-setosa     |\n",
            "|  42 |            4.4 |           3.2 |            1.3 |           0.2 | Iris-setosa     |\n",
            "|  43 |            5   |           3.5 |            1.6 |           0.6 | Iris-setosa     |\n",
            "|  44 |            5.1 |           3.8 |            1.9 |           0.4 | Iris-setosa     |\n",
            "|  45 |            4.8 |           3   |            1.4 |           0.3 | Iris-setosa     |\n",
            "|  46 |            5.1 |           3.8 |            1.6 |           0.2 | Iris-setosa     |\n",
            "|  47 |            4.6 |           3.2 |            1.4 |           0.2 | Iris-setosa     |\n",
            "|  48 |            5.3 |           3.7 |            1.5 |           0.2 | Iris-setosa     |\n",
            "|  49 |            5   |           3.3 |            1.4 |           0.2 | Iris-setosa     |\n",
            "|  50 |            7   |           3.2 |            4.7 |           1.4 | Iris-versicolor |\n",
            "|  51 |            6.4 |           3.2 |            4.5 |           1.5 | Iris-versicolor |\n",
            "|  52 |            6.9 |           3.1 |            4.9 |           1.5 | Iris-versicolor |\n",
            "|  53 |            5.5 |           2.3 |            4   |           1.3 | Iris-versicolor |\n",
            "|  54 |            6.5 |           2.8 |            4.6 |           1.5 | Iris-versicolor |\n",
            "|  55 |            5.7 |           2.8 |            4.5 |           1.3 | Iris-versicolor |\n",
            "|  56 |            6.3 |           3.3 |            4.7 |           1.6 | Iris-versicolor |\n",
            "|  57 |            4.9 |           2.4 |            3.3 |           1   | Iris-versicolor |\n",
            "|  58 |            6.6 |           2.9 |            4.6 |           1.3 | Iris-versicolor |\n",
            "|  59 |            5.2 |           2.7 |            3.9 |           1.4 | Iris-versicolor |\n",
            "|  60 |            5   |           2   |            3.5 |           1   | Iris-versicolor |\n",
            "|  61 |            5.9 |           3   |            4.2 |           1.5 | Iris-versicolor |\n",
            "|  62 |            6   |           2.2 |            4   |           1   | Iris-versicolor |\n",
            "|  63 |            6.1 |           2.9 |            4.7 |           1.4 | Iris-versicolor |\n",
            "|  64 |            5.6 |           2.9 |            3.6 |           1.3 | Iris-versicolor |\n",
            "|  65 |            6.7 |           3.1 |            4.4 |           1.4 | Iris-versicolor |\n",
            "|  66 |            5.6 |           3   |            4.5 |           1.5 | Iris-versicolor |\n",
            "|  67 |            5.8 |           2.7 |            4.1 |           1   | Iris-versicolor |\n",
            "|  68 |            6.2 |           2.2 |            4.5 |           1.5 | Iris-versicolor |\n",
            "|  69 |            5.6 |           2.5 |            3.9 |           1.1 | Iris-versicolor |\n",
            "|  70 |            5.9 |           3.2 |            4.8 |           1.8 | Iris-versicolor |\n",
            "|  71 |            6.1 |           2.8 |            4   |           1.3 | Iris-versicolor |\n",
            "|  72 |            6.3 |           2.5 |            4.9 |           1.5 | Iris-versicolor |\n",
            "|  73 |            6.1 |           2.8 |            4.7 |           1.2 | Iris-versicolor |\n",
            "|  74 |            6.4 |           2.9 |            4.3 |           1.3 | Iris-versicolor |\n",
            "|  75 |            6.6 |           3   |            4.4 |           1.4 | Iris-versicolor |\n",
            "|  76 |            6.8 |           2.8 |            4.8 |           1.4 | Iris-versicolor |\n",
            "|  77 |            6.7 |           3   |            5   |           1.7 | Iris-versicolor |\n",
            "|  78 |            6   |           2.9 |            4.5 |           1.5 | Iris-versicolor |\n",
            "|  79 |            5.7 |           2.6 |            3.5 |           1   | Iris-versicolor |\n",
            "|  80 |            5.5 |           2.4 |            3.8 |           1.1 | Iris-versicolor |\n",
            "|  81 |            5.5 |           2.4 |            3.7 |           1   | Iris-versicolor |\n",
            "|  82 |            5.8 |           2.7 |            3.9 |           1.2 | Iris-versicolor |\n",
            "|  83 |            6   |           2.7 |            5.1 |           1.6 | Iris-versicolor |\n",
            "|  84 |            5.4 |           3   |            4.5 |           1.5 | Iris-versicolor |\n",
            "|  85 |            6   |           3.4 |            4.5 |           1.6 | Iris-versicolor |\n",
            "|  86 |            6.7 |           3.1 |            4.7 |           1.5 | Iris-versicolor |\n",
            "|  87 |            6.3 |           2.3 |            4.4 |           1.3 | Iris-versicolor |\n",
            "|  88 |            5.6 |           3   |            4.1 |           1.3 | Iris-versicolor |\n",
            "|  89 |            5.5 |           2.5 |            4   |           1.3 | Iris-versicolor |\n",
            "|  90 |            5.5 |           2.6 |            4.4 |           1.2 | Iris-versicolor |\n",
            "|  91 |            6.1 |           3   |            4.6 |           1.4 | Iris-versicolor |\n",
            "|  92 |            5.8 |           2.6 |            4   |           1.2 | Iris-versicolor |\n",
            "|  93 |            5   |           2.3 |            3.3 |           1   | Iris-versicolor |\n",
            "|  94 |            5.6 |           2.7 |            4.2 |           1.3 | Iris-versicolor |\n",
            "|  95 |            5.7 |           3   |            4.2 |           1.2 | Iris-versicolor |\n",
            "|  96 |            5.7 |           2.9 |            4.2 |           1.3 | Iris-versicolor |\n",
            "|  97 |            6.2 |           2.9 |            4.3 |           1.3 | Iris-versicolor |\n",
            "|  98 |            5.1 |           2.5 |            3   |           1.1 | Iris-versicolor |\n",
            "|  99 |            5.7 |           2.8 |            4.1 |           1.3 | Iris-versicolor |\n",
            "| 100 |            6.3 |           3.3 |            6   |           2.5 | Iris-virginica  |\n",
            "| 101 |            5.8 |           2.7 |            5.1 |           1.9 | Iris-virginica  |\n",
            "| 102 |            7.1 |           3   |            5.9 |           2.1 | Iris-virginica  |\n",
            "| 103 |            6.3 |           2.9 |            5.6 |           1.8 | Iris-virginica  |\n",
            "| 104 |            6.5 |           3   |            5.8 |           2.2 | Iris-virginica  |\n",
            "| 105 |            7.6 |           3   |            6.6 |           2.1 | Iris-virginica  |\n",
            "| 106 |            4.9 |           2.5 |            4.5 |           1.7 | Iris-virginica  |\n",
            "| 107 |            7.3 |           2.9 |            6.3 |           1.8 | Iris-virginica  |\n",
            "| 108 |            6.7 |           2.5 |            5.8 |           1.8 | Iris-virginica  |\n",
            "| 109 |            7.2 |           3.6 |            6.1 |           2.5 | Iris-virginica  |\n",
            "| 110 |            6.5 |           3.2 |            5.1 |           2   | Iris-virginica  |\n",
            "| 111 |            6.4 |           2.7 |            5.3 |           1.9 | Iris-virginica  |\n",
            "| 112 |            6.8 |           3   |            5.5 |           2.1 | Iris-virginica  |\n",
            "| 113 |            5.7 |           2.5 |            5   |           2   | Iris-virginica  |\n",
            "| 114 |            5.8 |           2.8 |            5.1 |           2.4 | Iris-virginica  |\n",
            "| 115 |            6.4 |           3.2 |            5.3 |           2.3 | Iris-virginica  |\n",
            "| 116 |            6.5 |           3   |            5.5 |           1.8 | Iris-virginica  |\n",
            "| 117 |            7.7 |           3.8 |            6.7 |           2.2 | Iris-virginica  |\n",
            "| 118 |            7.7 |           2.6 |            6.9 |           2.3 | Iris-virginica  |\n",
            "| 119 |            6   |           2.2 |            5   |           1.5 | Iris-virginica  |\n",
            "| 120 |            6.9 |           3.2 |            5.7 |           2.3 | Iris-virginica  |\n",
            "| 121 |            5.6 |           2.8 |            4.9 |           2   | Iris-virginica  |\n",
            "| 122 |            7.7 |           2.8 |            6.7 |           2   | Iris-virginica  |\n",
            "| 123 |            6.3 |           2.7 |            4.9 |           1.8 | Iris-virginica  |\n",
            "| 124 |            6.7 |           3.3 |            5.7 |           2.1 | Iris-virginica  |\n",
            "| 125 |            7.2 |           3.2 |            6   |           1.8 | Iris-virginica  |\n",
            "| 126 |            6.2 |           2.8 |            4.8 |           1.8 | Iris-virginica  |\n",
            "| 127 |            6.1 |           3   |            4.9 |           1.8 | Iris-virginica  |\n",
            "| 128 |            6.4 |           2.8 |            5.6 |           2.1 | Iris-virginica  |\n",
            "| 129 |            7.2 |           3   |            5.8 |           1.6 | Iris-virginica  |\n",
            "| 130 |            7.4 |           2.8 |            6.1 |           1.9 | Iris-virginica  |\n",
            "| 131 |            7.9 |           3.8 |            6.4 |           2   | Iris-virginica  |\n",
            "| 132 |            6.4 |           2.8 |            5.6 |           2.2 | Iris-virginica  |\n",
            "| 133 |            6.3 |           2.8 |            5.1 |           1.5 | Iris-virginica  |\n",
            "| 134 |            6.1 |           2.6 |            5.6 |           1.4 | Iris-virginica  |\n",
            "| 135 |            7.7 |           3   |            6.1 |           2.3 | Iris-virginica  |\n",
            "| 136 |            6.3 |           3.4 |            5.6 |           2.4 | Iris-virginica  |\n",
            "| 137 |            6.4 |           3.1 |            5.5 |           1.8 | Iris-virginica  |\n",
            "| 138 |            6   |           3   |            4.8 |           1.8 | Iris-virginica  |\n",
            "| 139 |            6.9 |           3.1 |            5.4 |           2.1 | Iris-virginica  |\n",
            "| 140 |            6.7 |           3.1 |            5.6 |           2.4 | Iris-virginica  |\n",
            "| 141 |            6.9 |           3.1 |            5.1 |           2.3 | Iris-virginica  |\n",
            "| 142 |            5.8 |           2.7 |            5.1 |           1.9 | Iris-virginica  |\n",
            "| 143 |            6.8 |           3.2 |            5.9 |           2.3 | Iris-virginica  |\n",
            "| 144 |            6.7 |           3.3 |            5.7 |           2.5 | Iris-virginica  |\n",
            "| 145 |            6.7 |           3   |            5.2 |           2.3 | Iris-virginica  |\n",
            "| 146 |            6.3 |           2.5 |            5   |           1.9 | Iris-virginica  |\n",
            "| 147 |            6.5 |           3   |            5.2 |           2   | Iris-virginica  |\n",
            "| 148 |            6.2 |           3.4 |            5.4 |           2.3 | Iris-virginica  |\n",
            "| 149 |            5.9 |           3   |            5.1 |           1.8 | Iris-virginica  |\n"
          ]
        }
      ]
    },
    {
      "cell_type": "code",
      "source": [
        "# I wanted to understand how does sepal_length, sepal_width, petal_length and petal_width decides the type of Iris flower\n",
        "# This might take longer, so I am starting with EDA (Exploratory Data Analysis)\n",
        "# As a tester I will ask myself, what did I learn from this?\n",
        "\n",
        "iris_sup_01.describe()"
      ],
      "metadata": {
        "colab": {
          "base_uri": "https://localhost:8080/",
          "height": 300
        },
        "id": "7uRxDGKzz9h2",
        "outputId": "2c0aa070-1ff0-4105-f6f7-e91ee01361be"
      },
      "execution_count": 4,
      "outputs": [
        {
          "output_type": "execute_result",
          "data": {
            "text/plain": [
              "       sepal_length  sepal_width  petal_length  petal_width\n",
              "count    150.000000   150.000000    150.000000   150.000000\n",
              "mean       5.843333     3.054000      3.758667     1.198667\n",
              "std        0.828066     0.433594      1.764420     0.763161\n",
              "min        4.300000     2.000000      1.000000     0.100000\n",
              "25%        5.100000     2.800000      1.600000     0.300000\n",
              "50%        5.800000     3.000000      4.350000     1.300000\n",
              "75%        6.400000     3.300000      5.100000     1.800000\n",
              "max        7.900000     4.400000      6.900000     2.500000"
            ],
            "text/html": [
              "\n",
              "  <div id=\"df-ecde878f-1ed9-4299-a6e2-54863be9589d\" class=\"colab-df-container\">\n",
              "    <div>\n",
              "<style scoped>\n",
              "    .dataframe tbody tr th:only-of-type {\n",
              "        vertical-align: middle;\n",
              "    }\n",
              "\n",
              "    .dataframe tbody tr th {\n",
              "        vertical-align: top;\n",
              "    }\n",
              "\n",
              "    .dataframe thead th {\n",
              "        text-align: right;\n",
              "    }\n",
              "</style>\n",
              "<table border=\"1\" class=\"dataframe\">\n",
              "  <thead>\n",
              "    <tr style=\"text-align: right;\">\n",
              "      <th></th>\n",
              "      <th>sepal_length</th>\n",
              "      <th>sepal_width</th>\n",
              "      <th>petal_length</th>\n",
              "      <th>petal_width</th>\n",
              "    </tr>\n",
              "  </thead>\n",
              "  <tbody>\n",
              "    <tr>\n",
              "      <th>count</th>\n",
              "      <td>150.000000</td>\n",
              "      <td>150.000000</td>\n",
              "      <td>150.000000</td>\n",
              "      <td>150.000000</td>\n",
              "    </tr>\n",
              "    <tr>\n",
              "      <th>mean</th>\n",
              "      <td>5.843333</td>\n",
              "      <td>3.054000</td>\n",
              "      <td>3.758667</td>\n",
              "      <td>1.198667</td>\n",
              "    </tr>\n",
              "    <tr>\n",
              "      <th>std</th>\n",
              "      <td>0.828066</td>\n",
              "      <td>0.433594</td>\n",
              "      <td>1.764420</td>\n",
              "      <td>0.763161</td>\n",
              "    </tr>\n",
              "    <tr>\n",
              "      <th>min</th>\n",
              "      <td>4.300000</td>\n",
              "      <td>2.000000</td>\n",
              "      <td>1.000000</td>\n",
              "      <td>0.100000</td>\n",
              "    </tr>\n",
              "    <tr>\n",
              "      <th>25%</th>\n",
              "      <td>5.100000</td>\n",
              "      <td>2.800000</td>\n",
              "      <td>1.600000</td>\n",
              "      <td>0.300000</td>\n",
              "    </tr>\n",
              "    <tr>\n",
              "      <th>50%</th>\n",
              "      <td>5.800000</td>\n",
              "      <td>3.000000</td>\n",
              "      <td>4.350000</td>\n",
              "      <td>1.300000</td>\n",
              "    </tr>\n",
              "    <tr>\n",
              "      <th>75%</th>\n",
              "      <td>6.400000</td>\n",
              "      <td>3.300000</td>\n",
              "      <td>5.100000</td>\n",
              "      <td>1.800000</td>\n",
              "    </tr>\n",
              "    <tr>\n",
              "      <th>max</th>\n",
              "      <td>7.900000</td>\n",
              "      <td>4.400000</td>\n",
              "      <td>6.900000</td>\n",
              "      <td>2.500000</td>\n",
              "    </tr>\n",
              "  </tbody>\n",
              "</table>\n",
              "</div>\n",
              "    <div class=\"colab-df-buttons\">\n",
              "\n",
              "  <div class=\"colab-df-container\">\n",
              "    <button class=\"colab-df-convert\" onclick=\"convertToInteractive('df-ecde878f-1ed9-4299-a6e2-54863be9589d')\"\n",
              "            title=\"Convert this dataframe to an interactive table.\"\n",
              "            style=\"display:none;\">\n",
              "\n",
              "  <svg xmlns=\"http://www.w3.org/2000/svg\" height=\"24px\" viewBox=\"0 -960 960 960\">\n",
              "    <path d=\"M120-120v-720h720v720H120Zm60-500h600v-160H180v160Zm220 220h160v-160H400v160Zm0 220h160v-160H400v160ZM180-400h160v-160H180v160Zm440 0h160v-160H620v160ZM180-180h160v-160H180v160Zm440 0h160v-160H620v160Z\"/>\n",
              "  </svg>\n",
              "    </button>\n",
              "\n",
              "  <style>\n",
              "    .colab-df-container {\n",
              "      display:flex;\n",
              "      gap: 12px;\n",
              "    }\n",
              "\n",
              "    .colab-df-convert {\n",
              "      background-color: #E8F0FE;\n",
              "      border: none;\n",
              "      border-radius: 50%;\n",
              "      cursor: pointer;\n",
              "      display: none;\n",
              "      fill: #1967D2;\n",
              "      height: 32px;\n",
              "      padding: 0 0 0 0;\n",
              "      width: 32px;\n",
              "    }\n",
              "\n",
              "    .colab-df-convert:hover {\n",
              "      background-color: #E2EBFA;\n",
              "      box-shadow: 0px 1px 2px rgba(60, 64, 67, 0.3), 0px 1px 3px 1px rgba(60, 64, 67, 0.15);\n",
              "      fill: #174EA6;\n",
              "    }\n",
              "\n",
              "    .colab-df-buttons div {\n",
              "      margin-bottom: 4px;\n",
              "    }\n",
              "\n",
              "    [theme=dark] .colab-df-convert {\n",
              "      background-color: #3B4455;\n",
              "      fill: #D2E3FC;\n",
              "    }\n",
              "\n",
              "    [theme=dark] .colab-df-convert:hover {\n",
              "      background-color: #434B5C;\n",
              "      box-shadow: 0px 1px 3px 1px rgba(0, 0, 0, 0.15);\n",
              "      filter: drop-shadow(0px 1px 2px rgba(0, 0, 0, 0.3));\n",
              "      fill: #FFFFFF;\n",
              "    }\n",
              "  </style>\n",
              "\n",
              "    <script>\n",
              "      const buttonEl =\n",
              "        document.querySelector('#df-ecde878f-1ed9-4299-a6e2-54863be9589d button.colab-df-convert');\n",
              "      buttonEl.style.display =\n",
              "        google.colab.kernel.accessAllowed ? 'block' : 'none';\n",
              "\n",
              "      async function convertToInteractive(key) {\n",
              "        const element = document.querySelector('#df-ecde878f-1ed9-4299-a6e2-54863be9589d');\n",
              "        const dataTable =\n",
              "          await google.colab.kernel.invokeFunction('convertToInteractive',\n",
              "                                                    [key], {});\n",
              "        if (!dataTable) return;\n",
              "\n",
              "        const docLinkHtml = 'Like what you see? Visit the ' +\n",
              "          '<a target=\"_blank\" href=https://colab.research.google.com/notebooks/data_table.ipynb>data table notebook</a>'\n",
              "          + ' to learn more about interactive tables.';\n",
              "        element.innerHTML = '';\n",
              "        dataTable['output_type'] = 'display_data';\n",
              "        await google.colab.output.renderOutput(dataTable, element);\n",
              "        const docLink = document.createElement('div');\n",
              "        docLink.innerHTML = docLinkHtml;\n",
              "        element.appendChild(docLink);\n",
              "      }\n",
              "    </script>\n",
              "  </div>\n",
              "\n",
              "\n",
              "<div id=\"df-f3d176f5-e162-4af6-9b58-ea581fbe762d\">\n",
              "  <button class=\"colab-df-quickchart\" onclick=\"quickchart('df-f3d176f5-e162-4af6-9b58-ea581fbe762d')\"\n",
              "            title=\"Suggest charts\"\n",
              "            style=\"display:none;\">\n",
              "\n",
              "<svg xmlns=\"http://www.w3.org/2000/svg\" height=\"24px\"viewBox=\"0 0 24 24\"\n",
              "     width=\"24px\">\n",
              "    <g>\n",
              "        <path d=\"M19 3H5c-1.1 0-2 .9-2 2v14c0 1.1.9 2 2 2h14c1.1 0 2-.9 2-2V5c0-1.1-.9-2-2-2zM9 17H7v-7h2v7zm4 0h-2V7h2v10zm4 0h-2v-4h2v4z\"/>\n",
              "    </g>\n",
              "</svg>\n",
              "  </button>\n",
              "\n",
              "<style>\n",
              "  .colab-df-quickchart {\n",
              "      --bg-color: #E8F0FE;\n",
              "      --fill-color: #1967D2;\n",
              "      --hover-bg-color: #E2EBFA;\n",
              "      --hover-fill-color: #174EA6;\n",
              "      --disabled-fill-color: #AAA;\n",
              "      --disabled-bg-color: #DDD;\n",
              "  }\n",
              "\n",
              "  [theme=dark] .colab-df-quickchart {\n",
              "      --bg-color: #3B4455;\n",
              "      --fill-color: #D2E3FC;\n",
              "      --hover-bg-color: #434B5C;\n",
              "      --hover-fill-color: #FFFFFF;\n",
              "      --disabled-bg-color: #3B4455;\n",
              "      --disabled-fill-color: #666;\n",
              "  }\n",
              "\n",
              "  .colab-df-quickchart {\n",
              "    background-color: var(--bg-color);\n",
              "    border: none;\n",
              "    border-radius: 50%;\n",
              "    cursor: pointer;\n",
              "    display: none;\n",
              "    fill: var(--fill-color);\n",
              "    height: 32px;\n",
              "    padding: 0;\n",
              "    width: 32px;\n",
              "  }\n",
              "\n",
              "  .colab-df-quickchart:hover {\n",
              "    background-color: var(--hover-bg-color);\n",
              "    box-shadow: 0 1px 2px rgba(60, 64, 67, 0.3), 0 1px 3px 1px rgba(60, 64, 67, 0.15);\n",
              "    fill: var(--button-hover-fill-color);\n",
              "  }\n",
              "\n",
              "  .colab-df-quickchart-complete:disabled,\n",
              "  .colab-df-quickchart-complete:disabled:hover {\n",
              "    background-color: var(--disabled-bg-color);\n",
              "    fill: var(--disabled-fill-color);\n",
              "    box-shadow: none;\n",
              "  }\n",
              "\n",
              "  .colab-df-spinner {\n",
              "    border: 2px solid var(--fill-color);\n",
              "    border-color: transparent;\n",
              "    border-bottom-color: var(--fill-color);\n",
              "    animation:\n",
              "      spin 1s steps(1) infinite;\n",
              "  }\n",
              "\n",
              "  @keyframes spin {\n",
              "    0% {\n",
              "      border-color: transparent;\n",
              "      border-bottom-color: var(--fill-color);\n",
              "      border-left-color: var(--fill-color);\n",
              "    }\n",
              "    20% {\n",
              "      border-color: transparent;\n",
              "      border-left-color: var(--fill-color);\n",
              "      border-top-color: var(--fill-color);\n",
              "    }\n",
              "    30% {\n",
              "      border-color: transparent;\n",
              "      border-left-color: var(--fill-color);\n",
              "      border-top-color: var(--fill-color);\n",
              "      border-right-color: var(--fill-color);\n",
              "    }\n",
              "    40% {\n",
              "      border-color: transparent;\n",
              "      border-right-color: var(--fill-color);\n",
              "      border-top-color: var(--fill-color);\n",
              "    }\n",
              "    60% {\n",
              "      border-color: transparent;\n",
              "      border-right-color: var(--fill-color);\n",
              "    }\n",
              "    80% {\n",
              "      border-color: transparent;\n",
              "      border-right-color: var(--fill-color);\n",
              "      border-bottom-color: var(--fill-color);\n",
              "    }\n",
              "    90% {\n",
              "      border-color: transparent;\n",
              "      border-bottom-color: var(--fill-color);\n",
              "    }\n",
              "  }\n",
              "</style>\n",
              "\n",
              "  <script>\n",
              "    async function quickchart(key) {\n",
              "      const quickchartButtonEl =\n",
              "        document.querySelector('#' + key + ' button');\n",
              "      quickchartButtonEl.disabled = true;  // To prevent multiple clicks.\n",
              "      quickchartButtonEl.classList.add('colab-df-spinner');\n",
              "      try {\n",
              "        const charts = await google.colab.kernel.invokeFunction(\n",
              "            'suggestCharts', [key], {});\n",
              "      } catch (error) {\n",
              "        console.error('Error during call to suggestCharts:', error);\n",
              "      }\n",
              "      quickchartButtonEl.classList.remove('colab-df-spinner');\n",
              "      quickchartButtonEl.classList.add('colab-df-quickchart-complete');\n",
              "    }\n",
              "    (() => {\n",
              "      let quickchartButtonEl =\n",
              "        document.querySelector('#df-f3d176f5-e162-4af6-9b58-ea581fbe762d button');\n",
              "      quickchartButtonEl.style.display =\n",
              "        google.colab.kernel.accessAllowed ? 'block' : 'none';\n",
              "    })();\n",
              "  </script>\n",
              "</div>\n",
              "\n",
              "    </div>\n",
              "  </div>\n"
            ],
            "application/vnd.google.colaboratory.intrinsic+json": {
              "type": "dataframe",
              "summary": "{\n  \"name\": \"iris_sup_01\",\n  \"rows\": 8,\n  \"fields\": [\n    {\n      \"column\": \"sepal_length\",\n      \"properties\": {\n        \"dtype\": \"number\",\n        \"std\": 51.24711349471842,\n        \"min\": 0.8280661279778629,\n        \"max\": 150.0,\n        \"num_unique_values\": 8,\n        \"samples\": [\n          5.843333333333334,\n          5.8,\n          150.0\n        ],\n        \"semantic_type\": \"\",\n        \"description\": \"\"\n      }\n    },\n    {\n      \"column\": \"sepal_width\",\n      \"properties\": {\n        \"dtype\": \"number\",\n        \"std\": 52.08647211421483,\n        \"min\": 0.4335943113621737,\n        \"max\": 150.0,\n        \"num_unique_values\": 8,\n        \"samples\": [\n          3.0540000000000003,\n          3.0,\n          150.0\n        ],\n        \"semantic_type\": \"\",\n        \"description\": \"\"\n      }\n    },\n    {\n      \"column\": \"petal_length\",\n      \"properties\": {\n        \"dtype\": \"number\",\n        \"std\": 51.835227940958106,\n        \"min\": 1.0,\n        \"max\": 150.0,\n        \"num_unique_values\": 8,\n        \"samples\": [\n          3.758666666666666,\n          4.35,\n          150.0\n        ],\n        \"semantic_type\": \"\",\n        \"description\": \"\"\n      }\n    },\n    {\n      \"column\": \"petal_width\",\n      \"properties\": {\n        \"dtype\": \"number\",\n        \"std\": 52.63663424340991,\n        \"min\": 0.1,\n        \"max\": 150.0,\n        \"num_unique_values\": 8,\n        \"samples\": [\n          1.1986666666666668,\n          1.3,\n          150.0\n        ],\n        \"semantic_type\": \"\",\n        \"description\": \"\"\n      }\n    }\n  ]\n}"
            }
          },
          "metadata": {},
          "execution_count": 4
        }
      ]
    },
    {
      "cell_type": "code",
      "source": [
        "# One key learning after looking at data in its raw form as well as Statistics, some sort of visualization is needed.\n",
        "# How do we choose the elements (features, labels) for visualization?\n",
        "# For that Prinicpal Component Analysis (Appears to be a manifestation of Correlation Matrix) needs to be performed.\n",
        "# ZoomIn-Zoomout\n",
        "# The idea is that For future measurements of flowers we want to find a way to determine the species from the measurements.\n",
        "# Ref: https://www.math.umd.edu/~petersd/666/html/iris_pca.html\n",
        "\n",
        "# Encode the categorical variable (species)\n",
        "from sklearn.preprocessing import LabelEncoder, StandardScaler\n",
        "\n",
        "#iris_df_cp_spl.tail(51)\n",
        "#iris_df_cp_spl.head(51)\n",
        "\n",
        "# Create a boolean mask to identify the transitions\n",
        "transition_mask = iris_sup_01['species'].shift() != iris_sup_01['species']\n",
        "\n",
        "# Get the indices where transitions occur\n",
        "transition_indices = iris_sup_01[transition_mask].index\n",
        "\n",
        "# Create an empty DataFrame to store the selected rows\n",
        "selected_rows = pd.DataFrame(columns=iris_sup_01.columns)\n",
        "\n",
        "# Loop through transition indices and select rows before and after each transition\n",
        "for idx in transition_indices:\n",
        "    start_idx = max(0, idx - 1)\n",
        "    end_idx = min(len(iris_sup_01), idx + 1)\n",
        "    selected_rows = pd.concat([selected_rows, iris_sup_01.iloc[start_idx:end_idx]])\n",
        "\n",
        "# Display the selected rows\n",
        "print(selected_rows)"
      ],
      "metadata": {
        "colab": {
          "base_uri": "https://localhost:8080/",
          "height": 0
        },
        "id": "GW9jMi8c0D1f",
        "outputId": "bafec2cc-bafa-4877-f09b-a3fcac47a258"
      },
      "execution_count": 5,
      "outputs": [
        {
          "output_type": "stream",
          "name": "stdout",
          "text": [
            "     sepal_length  sepal_width  petal_length  petal_width          species\n",
            "0             5.1          3.5           1.4          0.2      Iris-setosa\n",
            "49            5.0          3.3           1.4          0.2      Iris-setosa\n",
            "50            7.0          3.2           4.7          1.4  Iris-versicolor\n",
            "99            5.7          2.8           4.1          1.3  Iris-versicolor\n",
            "100           6.3          3.3           6.0          2.5   Iris-virginica\n"
          ]
        },
        {
          "output_type": "stream",
          "name": "stderr",
          "text": [
            "<ipython-input-5-e8ba51d9dca1>:27: FutureWarning: The behavior of DataFrame concatenation with empty or all-NA entries is deprecated. In a future version, this will no longer exclude empty or all-NA columns when determining the result dtypes. To retain the old behavior, exclude the relevant entries before the concat operation.\n",
            "  selected_rows = pd.concat([selected_rows, iris_sup_01.iloc[start_idx:end_idx]])\n"
          ]
        }
      ]
    },
    {
      "cell_type": "code",
      "source": [
        "#Now encode\n",
        "label_encoder = LabelEncoder()\n",
        "iris_sup_01['species'] = label_encoder.fit_transform(iris_sup_01['species'])\n",
        "\n",
        "# Recreate a boolean mask to identify the transitions\n",
        "transition_mask = iris_sup_01['species'].shift() != iris_sup_01['species']\n",
        "\n",
        "# Get the indices where transitions occur\n",
        "transition_indices = iris_sup_01[transition_mask].index\n",
        "\n",
        "# Create an empty DataFrame to store the selected rows\n",
        "selected_rows = pd.DataFrame(columns=iris_sup_01.columns)\n",
        "\n",
        "# Loop through transition indices and select rows before and after each transition\n",
        "for idx in transition_indices:\n",
        "    start_idx = max(0, idx - 1)\n",
        "    end_idx = min(len(iris_sup_01), idx + 1)\n",
        "    selected_rows = pd.concat([selected_rows, iris_sup_01.iloc[start_idx:end_idx]])\n",
        "\n",
        "# Display the selected rows\n",
        "print(selected_rows)"
      ],
      "metadata": {
        "colab": {
          "base_uri": "https://localhost:8080/",
          "height": 0
        },
        "id": "bV3AQWqW0Hq5",
        "outputId": "e5990b97-d71b-44da-80a3-edada81d41ae"
      },
      "execution_count": 6,
      "outputs": [
        {
          "output_type": "stream",
          "name": "stdout",
          "text": [
            "     sepal_length  sepal_width  petal_length  petal_width species\n",
            "0             5.1          3.5           1.4          0.2       0\n",
            "49            5.0          3.3           1.4          0.2       0\n",
            "50            7.0          3.2           4.7          1.4       1\n",
            "99            5.7          2.8           4.1          1.3       1\n",
            "100           6.3          3.3           6.0          2.5       2\n"
          ]
        },
        {
          "output_type": "stream",
          "name": "stderr",
          "text": [
            "<ipython-input-6-e181fcce9cad>:18: FutureWarning: The behavior of DataFrame concatenation with empty or all-NA entries is deprecated. In a future version, this will no longer exclude empty or all-NA columns when determining the result dtypes. To retain the old behavior, exclude the relevant entries before the concat operation.\n",
            "  selected_rows = pd.concat([selected_rows, iris_sup_01.iloc[start_idx:end_idx]])\n"
          ]
        }
      ]
    },
    {
      "cell_type": "code",
      "source": [
        "correlation_matrix = iris_sup_01.corr()\n",
        "print(correlation_matrix)\n",
        "\n",
        "# This correlation matrix becomes another basis of identifying patterns"
      ],
      "metadata": {
        "colab": {
          "base_uri": "https://localhost:8080/",
          "height": 0
        },
        "id": "2jni0Dk30LAl",
        "outputId": "999f3d7f-af72-4296-e79b-6a75f0617553"
      },
      "execution_count": 7,
      "outputs": [
        {
          "output_type": "stream",
          "name": "stdout",
          "text": [
            "              sepal_length  sepal_width  petal_length  petal_width   species\n",
            "sepal_length      1.000000    -0.109369      0.871754     0.817954  0.782561\n",
            "sepal_width      -0.109369     1.000000     -0.420516    -0.356544 -0.419446\n",
            "petal_length      0.871754    -0.420516      1.000000     0.962757  0.949043\n",
            "petal_width       0.817954    -0.356544      0.962757     1.000000  0.956464\n",
            "species           0.782561    -0.419446      0.949043     0.956464  1.000000\n"
          ]
        }
      ]
    },
    {
      "cell_type": "code",
      "source": [
        "import seaborn as sns\n",
        "import matplotlib.pyplot as plt\n",
        "\n",
        "# Plotting the correlation matrix\n",
        "plt.figure(figsize=(10, 8))\n",
        "sns.heatmap(correlation_matrix, annot=True, cmap='coolwarm', fmt=\".2f\")\n",
        "plt.title('Correlation Matrix of Iris Dataset')\n",
        "plt.show()"
      ],
      "metadata": {
        "colab": {
          "base_uri": "https://localhost:8080/",
          "height": 699
        },
        "id": "nzwebUyV0NXm",
        "outputId": "36d53e64-955a-422d-885e-6dfcde0d2f18"
      },
      "execution_count": 8,
      "outputs": [
        {
          "output_type": "display_data",
          "data": {
            "text/plain": [
              "<Figure size 1000x800 with 2 Axes>"
            ],
            "image/png": "[encoded data removed]"
          },
          "metadata": {}
        }
      ]
    },
    {
      "cell_type": "code",
      "source": [
        "# Scatter plot for petal length vs species\n",
        "# Based on the high correlations\n",
        "sns.scatterplot(data=iris_sup_01, x=\"petal_length\", y=\"species\", hue=\"species\")\n",
        "plt.title(\"Petal Length vs species\")\n",
        "plt.show()"
      ],
      "metadata": {
        "colab": {
          "base_uri": "https://localhost:8080/",
          "height": 472
        },
        "id": "8A46alPp0PEW",
        "outputId": "5d83634b-205e-4e0d-c421-b53b6eb62ec9"
      },
      "execution_count": 9,
      "outputs": [
        {
          "output_type": "display_data",
          "data": {
            "text/plain": [
              "<Figure size 640x480 with 1 Axes>"
            ],
            "image/png": "[encoded data removed]"
          },
          "metadata": {}
        }
      ]
    },
    {
      "cell_type": "code",
      "source": [
        "# Scatter plot for petal width vs species\n",
        "# Based on the high correlations\n",
        "sns.scatterplot(data=iris_sup_01, x=\"petal_width\", y=\"species\", hue=\"species\")\n",
        "plt.title(\"Petal Width vs species\")\n",
        "plt.show()"
      ],
      "metadata": {
        "colab": {
          "base_uri": "https://localhost:8080/",
          "height": 472
        },
        "id": "NXf2fsew0Rsx",
        "outputId": "55cf3b27-94e3-4d69-ba2b-909ac74a4da0"
      },
      "execution_count": 10,
      "outputs": [
        {
          "output_type": "display_data",
          "data": {
            "text/plain": [
              "<Figure size 640x480 with 1 Axes>"
            ],
            "image/png": "[encoded data removed]"
          },
          "metadata": {}
        }
      ]
    },
    {
      "cell_type": "code",
      "source": [
        "import numpy as np\n",
        "from sklearn.model_selection import train_test_split\n",
        "from sklearn.linear_model import LogisticRegression\n",
        "from sklearn.metrics import mean_squared_error"
      ],
      "metadata": {
        "id": "nCoRmVId0Tpk"
      },
      "execution_count": 11,
      "outputs": []
    },
    {
      "cell_type": "code",
      "source": [
        "# Split the dataset into features and target\n",
        "X = iris_sup_01.drop('species', axis=1)\n",
        "y = iris_sup_01['species']\n",
        "\n",
        "\n",
        "# Split the dataset into training and test sets\n",
        "X_train, X_test, y_train, y_test = train_test_split(X, y, test_size=0.2, random_state=42)\n",
        "\n",
        "# Normalize the features (optional)\n",
        "scaler = StandardScaler()\n",
        "X_train_scaled = scaler.fit_transform(X_train)\n",
        "X_test_scaled = scaler.transform(X_test)\n",
        "\n",
        "# The dataset is now ready for training a model\n",
        "print(\"Dataset preparation complete.\")"
      ],
      "metadata": {
        "colab": {
          "base_uri": "https://localhost:8080/",
          "height": 0
        },
        "id": "Z2AcDQBd0Vli",
        "outputId": "ba582c19-f2a0-40b2-a493-0a904784295a"
      },
      "execution_count": 12,
      "outputs": [
        {
          "output_type": "stream",
          "name": "stdout",
          "text": [
            "Dataset preparation complete.\n"
          ]
        }
      ]
    },
    {
      "cell_type": "code",
      "source": [
        "model_lr = LogisticRegression(max_iter=200)\n",
        "model_lr.fit(X_train_scaled, y_train)\n",
        "y_pred_lr = model_lr.predict(X_test_scaled)"
      ],
      "metadata": {
        "id": "DaP6IfDJ0XWP"
      },
      "execution_count": 13,
      "outputs": []
    },
    {
      "cell_type": "code",
      "source": [
        "# Evaluating LogisticRegresion Algo based model\n",
        "from sklearn.metrics import accuracy_score, precision_score, recall_score, f1_score, confusion_matrix, roc_auc_score, roc_curve\n",
        "\n",
        "# Assuming y_pred_lr and y_test are defined\n",
        "accuracy = accuracy_score(y_test, y_pred_lr)\n",
        "precision = precision_score(y_test, y_pred_lr, average='weighted')\n",
        "recall = recall_score(y_test, y_pred_lr, average='weighted')\n",
        "f1 = f1_score(y_test, y_pred_lr, average='weighted')\n",
        "cm = confusion_matrix(y_test, y_pred_lr)\n",
        "\n",
        "print(f\"Accuracy: {accuracy:.2f}\")\n",
        "print(f\"Precision: {precision:.2f}\")\n",
        "print(f\"Recall: {recall:.2f}\")\n",
        "print(f\"F1-Score: {f1:.2f}\")\n",
        "\n",
        "# Confusion Matrix plot\n",
        "sns.heatmap(cm, annot=True, fmt='d', cmap='Blues')\n",
        "plt.xlabel('Predicted')\n",
        "plt.ylabel('Actual')\n",
        "plt.title('Confusion Matrix')\n",
        "plt.show()\n",
        "\n",
        "# ROC-AUC Score and Curve (for binary classification)\n",
        "if len(set(y_test)) == 2:\n",
        "    y_prob = model_lr.predict_proba(X_test_scaled)[:, 1]\n",
        "    roc_auc = roc_auc_score(y_test, y_prob)\n",
        "    fpr, tpr, _ = roc_curve(y_test, y_prob)\n",
        "\n",
        "    print(f\"ROC AUC Score: {roc_auc:.2f}\")\n",
        "\n",
        "    plt.plot(fpr, tpr, label=f'AUC = {roc_auc:.2f}')\n",
        "    plt.plot([0, 1], [0, 1], 'k--')\n",
        "    plt.xlabel('False Positive Rate')\n",
        "    plt.ylabel('True Positive Rate')\n",
        "    plt.title('ROC Curve')\n",
        "    plt.legend(loc='best')\n",
        "    plt.show()"
      ],
      "metadata": {
        "colab": {
          "base_uri": "https://localhost:8080/",
          "height": 541
        },
        "id": "K5n3HfNc0ZXl",
        "outputId": "e29f5973-a5d3-4269-8315-6dec45ea2fe6"
      },
      "execution_count": 14,
      "outputs": [
        {
          "output_type": "stream",
          "name": "stdout",
          "text": [
            "Accuracy: 1.00\n",
            "Precision: 1.00\n",
            "Recall: 1.00\n",
            "F1-Score: 1.00\n"
          ]
        },
        {
          "output_type": "display_data",
          "data": {
            "text/plain": [
              "<Figure size 640x480 with 2 Axes>"
            ],
            "image/png": "[encoded data removed]"
          },
          "metadata": {}
        }
      ]
    },
    {
      "cell_type": "code",
      "source": [
        "# Making predictions\n",
        "y_pred = model_lr.predict(X_test)\n",
        "\n",
        "# Printing the predicted prices\n",
        "print(\"Predicted iris type:\", y_pred_lr)\n",
        "print(\"Actual iris type:\", y_test.values)\n",
        "\n",
        "# Later look at https://github.com/scikit-learn/scikit-learn/issues/28429"
      ],
      "metadata": {
        "colab": {
          "base_uri": "https://localhost:8080/",
          "height": 0
        },
        "id": "8fpUgiln0a13",
        "outputId": "f8641a41-cefb-4039-f5ad-2abd71899220"
      },
      "execution_count": 15,
      "outputs": [
        {
          "output_type": "stream",
          "name": "stdout",
          "text": [
            "Predicted iris type: [1 0 2 1 1 0 1 2 1 1 2 0 0 0 0 1 2 1 1 2 0 2 0 2 2 2 2 2 0 0]\n",
            "Actual iris type: [1 0 2 1 1 0 1 2 1 1 2 0 0 0 0 1 2 1 1 2 0 2 0 2 2 2 2 2 0 0]\n"
          ]
        },
        {
          "output_type": "stream",
          "name": "stderr",
          "text": [
            "/usr/local/lib/python3.10/dist-packages/sklearn/base.py:486: UserWarning: X has feature names, but LogisticRegression was fitted without feature names\n",
            "  warnings.warn(\n"
          ]
        }
      ]
    },
    {
      "cell_type": "code",
      "source": [
        "# Evaluating the model - piece by piece\n",
        "mse = mean_squared_error(y_test, y_pred_lr)\n",
        "print(\"Mean Squared Error:\", mse)"
      ],
      "metadata": {
        "colab": {
          "base_uri": "https://localhost:8080/",
          "height": 0
        },
        "id": "4iFBgYTi0eBe",
        "outputId": "bb24828a-5b0e-4638-c522-3038ead1f49d"
      },
      "execution_count": 16,
      "outputs": [
        {
          "output_type": "stream",
          "name": "stdout",
          "text": [
            "Mean Squared Error: 0.0\n"
          ]
        }
      ]
    },
    {
      "cell_type": "code",
      "source": [
        "# Evaluate the model - piece by piece\n",
        "accuracy = accuracy_score(y_test, y_pred_lr)\n",
        "print(f\"Accuracy: {accuracy:.2f}\")"
      ],
      "metadata": {
        "colab": {
          "base_uri": "https://localhost:8080/",
          "height": 0
        },
        "id": "bAzu-ZJZ0gHE",
        "outputId": "d95d3ee7-acb8-4358-8056-eae75082165a"
      },
      "execution_count": 17,
      "outputs": [
        {
          "output_type": "stream",
          "name": "stdout",
          "text": [
            "Accuracy: 1.00\n"
          ]
        }
      ]
    },
    {
      "cell_type": "code",
      "source": [
        "# Confusion matrix\n",
        "print(confusion_matrix(y_test, y_pred_lr))"
      ],
      "metadata": {
        "colab": {
          "base_uri": "https://localhost:8080/",
          "height": 0
        },
        "id": "fvhrXpUA0hzk",
        "outputId": "7bff985f-3fbd-43e1-f7b1-0504f75f5ae0"
      },
      "execution_count": 18,
      "outputs": [
        {
          "output_type": "stream",
          "name": "stdout",
          "text": [
            "[[10  0  0]\n",
            " [ 0  9  0]\n",
            " [ 0  0 11]]\n"
          ]
        }
      ]
    },
    {
      "cell_type": "code",
      "source": [
        "from sklearn.model_selection import cross_val_score\n",
        "\n",
        "# Perform cross-validation\n",
        "cv_scores = cross_val_score(model_lr, X_train_scaled, y_train, cv=5)\n",
        "\n",
        "print(f\"Cross-validation scores: {cv_scores}\")\n",
        "print(f\"Average cross-validation score: {cv_scores.mean():.2f}\")"
      ],
      "metadata": {
        "colab": {
          "base_uri": "https://localhost:8080/",
          "height": 0
        },
        "id": "0U4eHaSb0o5O",
        "outputId": "74d3a5f3-b38c-4ced-f405-8df284ce5cda"
      },
      "execution_count": 19,
      "outputs": [
        {
          "output_type": "stream",
          "name": "stdout",
          "text": [
            "Cross-validation scores: [0.95833333 1.         0.875      1.         0.95833333]\n",
            "Average cross-validation score: 0.96\n"
          ]
        }
      ]
    },
    {
      "cell_type": "code",
      "source": [
        "# Decision Tree as an Algorithm\n",
        "from sklearn import tree"
      ],
      "metadata": {
        "id": "IKSVqjeG0qf9"
      },
      "execution_count": 20,
      "outputs": []
    },
    {
      "cell_type": "code",
      "source": [
        "from sklearn.tree import DecisionTreeClassifier\n",
        "model_dt = DecisionTreeClassifier()\n",
        "\n",
        "model_dt.fit(X_train_scaled, y_train)\n",
        "y_pred_dt = model_dt.predict(X_test_scaled)\n",
        "\n",
        "# Printing the predicted prices\n",
        "print(\"Predicted iris type:\", y_pred_dt)\n",
        "print(\"Actual iris type:\", y_test.values)"
      ],
      "metadata": {
        "colab": {
          "base_uri": "https://localhost:8080/",
          "height": 0
        },
        "id": "zWS1FmEe0sl2",
        "outputId": "cabbf144-061e-471d-b55d-bbc46fc83b5b"
      },
      "execution_count": 21,
      "outputs": [
        {
          "output_type": "stream",
          "name": "stdout",
          "text": [
            "Predicted iris type: [1 0 2 1 1 0 1 2 1 1 2 0 0 0 0 1 2 1 1 2 0 2 0 2 2 2 2 2 0 0]\n",
            "Actual iris type: [1 0 2 1 1 0 1 2 1 1 2 0 0 0 0 1 2 1 1 2 0 2 0 2 2 2 2 2 0 0]\n"
          ]
        }
      ]
    },
    {
      "cell_type": "code",
      "source": [
        "# Evaluating the model\n",
        "mse = mean_squared_error(y_test, y_pred_dt)\n",
        "print(\"Mean Squared Error:\", mse)"
      ],
      "metadata": {
        "colab": {
          "base_uri": "https://localhost:8080/",
          "height": 0
        },
        "id": "m0gwDRlk0uV8",
        "outputId": "2d1dc785-7caf-4aab-e9f4-2d46b9f374ea"
      },
      "execution_count": 22,
      "outputs": [
        {
          "output_type": "stream",
          "name": "stdout",
          "text": [
            "Mean Squared Error: 0.0\n"
          ]
        }
      ]
    },
    {
      "cell_type": "code",
      "source": [
        "# Evaluate the model\n",
        "accuracy = accuracy_score(y_test, y_pred_dt)\n",
        "print(f\"Accuracy: {accuracy:.2f}\")"
      ],
      "metadata": {
        "colab": {
          "base_uri": "https://localhost:8080/",
          "height": 0
        },
        "id": "6OztaS5Q0wKz",
        "outputId": "d220f37e-9c07-455b-b2ff-62e8ae30cfb3"
      },
      "execution_count": 23,
      "outputs": [
        {
          "output_type": "stream",
          "name": "stdout",
          "text": [
            "Accuracy: 1.00\n"
          ]
        }
      ]
    },
    {
      "cell_type": "code",
      "source": [
        "# Confusion matrix\n",
        "print(confusion_matrix(y_test, y_pred_dt))"
      ],
      "metadata": {
        "colab": {
          "base_uri": "https://localhost:8080/",
          "height": 0
        },
        "id": "Uzv91O_70x-_",
        "outputId": "998cbcfc-3580-4b1c-ae45-7c7d36d5baae"
      },
      "execution_count": 24,
      "outputs": [
        {
          "output_type": "stream",
          "name": "stdout",
          "text": [
            "[[10  0  0]\n",
            " [ 0  9  0]\n",
            " [ 0  0 11]]\n"
          ]
        }
      ]
    },
    {
      "cell_type": "code",
      "source": [
        "from sklearn.model_selection import cross_val_score\n",
        "\n",
        "# Perform cross-validation\n",
        "cv_scores = cross_val_score(model_dt, X_train_scaled, y_train, cv=5)\n",
        "\n",
        "print(f\"Cross-validation scores: {cv_scores}\")\n",
        "print(f\"Average cross-validation score: {cv_scores.mean():.2f}\")"
      ],
      "metadata": {
        "colab": {
          "base_uri": "https://localhost:8080/",
          "height": 0
        },
        "id": "-IcgYeW20zr6",
        "outputId": "449451a2-b9bb-4033-8864-1a6b4c7e2f6b"
      },
      "execution_count": 25,
      "outputs": [
        {
          "output_type": "stream",
          "name": "stdout",
          "text": [
            "Cross-validation scores: [1.         0.95833333 0.875      0.95833333 0.95833333]\n",
            "Average cross-validation score: 0.95\n"
          ]
        }
      ]
    },
    {
      "cell_type": "code",
      "source": [],
      "metadata": {
        "id": "Ynuwtkt901Sw"
      },
      "execution_count": null,
      "outputs": []
    }
  ]
}